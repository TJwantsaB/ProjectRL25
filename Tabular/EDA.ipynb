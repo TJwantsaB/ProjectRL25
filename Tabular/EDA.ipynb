{
 "cells": [
  {
   "cell_type": "code",
   "execution_count": 1,
   "metadata": {},
   "outputs": [],
   "source": [
    "import numpy as np\n",
    "import pandas as pd\n",
    "import matplotlib.pyplot as plt\n",
    "import seaborn as sns\n"
   ]
  },
  {
   "cell_type": "code",
   "execution_count": 3,
   "metadata": {},
   "outputs": [
    {
     "name": "stdout",
     "output_type": "stream",
     "text": [
      "      PRICES  Hour 01  Hour 02  Hour 03  Hour 04  Hour 05  Hour 06  Hour 07  \\\n",
      "0 2007-01-01    24.31    24.31    21.71     8.42     0.01     0.01     0.02   \n",
      "1 2007-01-02    16.01    11.00     9.01     7.50     9.00     7.45    16.50   \n",
      "2 2007-01-03    28.00    24.50    24.15    18.99    15.50    23.11    29.01   \n",
      "3 2007-01-04    31.01    28.69    27.00    24.20    12.02    27.00    28.00   \n",
      "4 2007-01-05    22.00    19.50    17.55    15.91    11.40    22.65    27.30   \n",
      "\n",
      "   Hour 08  Hour 09  ...  Hour 15  Hour 16  Hour 17  Hour 18  Hour 19  \\\n",
      "0     0.01     0.01  ...    15.00    10.00     8.17    27.77    37.99   \n",
      "1    28.01    29.96  ...    37.57    36.45    37.99    53.00    59.69   \n",
      "2    39.73    43.81  ...    43.21    43.99    48.00    57.00    60.99   \n",
      "3    34.85    41.31  ...    40.01    38.00    42.66    53.00    58.99   \n",
      "4    34.00    40.01  ...    40.06    38.00    38.61    49.84    53.00   \n",
      "\n",
      "   Hour 20  Hour 21  Hour 22  Hour 23  Hour 24  \n",
      "0    33.11    37.99    33.00    36.48    30.65  \n",
      "1    50.09    50.00    36.22    31.09    29.84  \n",
      "2    55.51    51.77    34.51    39.31    38.05  \n",
      "3    53.50    44.01    35.00    34.46    31.57  \n",
      "4    45.91    36.74    29.61    30.61    27.51  \n",
      "\n",
      "[5 rows x 25 columns]\n"
     ]
    }
   ],
   "source": [
    "df = pd.read_excel('train.xlsx')\n",
    "\n",
    "print(df.head())"
   ]
  },
  {
   "cell_type": "markdown",
   "metadata": {},
   "source": [
    "### Max Min of the data"
   ]
  },
  {
   "cell_type": "code",
   "execution_count": 4,
   "metadata": {},
   "outputs": [
    {
     "name": "stdout",
     "output_type": "stream",
     "text": [
      "Overall Max Price: 2500.0\n",
      "Overall Min Price: 0.01\n"
     ]
    }
   ],
   "source": [
    "max_price = df.iloc[:, 1:].max().max()\n",
    "min_price = df.iloc[:, 1:].min().min()\n",
    "\n",
    "print(f\"Overall Max Price: {max_price}\")\n",
    "print(f\"Overall Min Price: {min_price}\")"
   ]
  },
  {
   "cell_type": "code",
   "execution_count": null,
   "metadata": {},
   "outputs": [],
   "source": []
  }
 ],
 "metadata": {
  "kernelspec": {
   "display_name": "progLab",
   "language": "python",
   "name": "python3"
  },
  "language_info": {
   "codemirror_mode": {
    "name": "ipython",
    "version": 3
   },
   "file_extension": ".py",
   "mimetype": "text/x-python",
   "name": "python",
   "nbconvert_exporter": "python",
   "pygments_lexer": "ipython3",
   "version": "3.9.13"
  }
 },
 "nbformat": 4,
 "nbformat_minor": 2
}
